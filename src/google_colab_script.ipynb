{
 "nbformat": 4,
 "nbformat_minor": 2,
 "metadata": {
  "language_info": {
   "name": "python",
   "codemirror_mode": {
    "name": "ipython",
    "version": 3
   }
  },
  "orig_nbformat": 2,
  "file_extension": ".py",
  "mimetype": "text/x-python",
  "name": "python",
  "npconvert_exporter": "python",
  "pygments_lexer": "ipython3",
  "version": 3
 },
 "cells": [
  {
   "cell_type": "code",
   "execution_count": null,
   "metadata": {},
   "outputs": [],
   "source": [
    "# setup\n",
    "import sys\n",
    "print(sys.version)\n",
    "from google.colab import drive\n",
    "drive.mount('/content/drive')\n",
    "!pip install six numpy scipy Pillow matplotlib scikit-image opencv-python imageio Shapely\n",
    "!pip install imgaug\n",
    "!rm -rf sample_data\n",
    "!rm -rf thesis_project\n",
    "!git clone https://github.com/student1111111/thesis_project.git"
   ]
  },
  {
   "cell_type": "code",
   "execution_count": null,
   "metadata": {},
   "outputs": [],
   "source": [
    "# image Blurring\n",
    "# input : given image\n",
    "# output : set of blurred images\n",
    "!python thesis_project/src/add_noise.py --input_dir \"/content/drive/My Drive/less_than_10_pct_cloud/\" --output_dir \"/content/drive/My Drive/less_than_10_pct_cloud_noise_added/\" "
   ]
  },
  {
   "cell_type": "code",
   "execution_count": null,
   "metadata": {},
   "outputs": [],
   "source": [
    "# with blurred image, run sr gan solver,\n",
    "# save the model file\n",
    "!python thesis_project/src/run_trainer.py --image_dir \"/content/drive/My Drive/less_than_10_pct_cloud_noise_added/\""
   ]
  },
  {
   "cell_type": "code",
   "execution_count": null,
   "metadata": {},
   "outputs": [],
   "source": [
    "# Merge the gan generated images"
   ]
  }
 ]
}